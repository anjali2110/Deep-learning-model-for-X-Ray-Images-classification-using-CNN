{
  "cells": [
    {
      "metadata": {
        "_uuid": "8f2839f25d086af736a60e9eeb907d3b93b6e0e5",
        "_cell_guid": "b1076dfc-b9ad-4769-8c92-a6c4dae69d19",
        "trusted": true
      },
      "cell_type": "code",
      "source": "# This Python 3 environment comes with many helpful analytics libraries installed\n# It is defined by the kaggle/python docker image: https://github.com/kaggle/docker-python\n# For example, here's several helpful packages to load in \n\nimport numpy as np # linear algebra\nimport pandas as pd # data processing, CSV file I/O (e.g. pd.read_csv)\n\n# Input data files are available in the \"../input/\" directory.\n# For example, running this (by clicking run or pressing Shift+Enter) will list the files in the input directory\n\nimport os\nprint(os.listdir(\"../input\"))\n\n# Any results you write to the current directory are saved as output.",
      "execution_count": null,
      "outputs": []
    },
    {
      "metadata": {
        "_cell_guid": "79c7e3d0-c299-4dcb-8224-4455121ee9b0",
        "_uuid": "d629ff2d2480ee46fbb7e2d37f6b5fab8052498a",
        "trusted": true
      },
      "cell_type": "code",
      "source": "from keras.models import Sequential\nfrom keras.layers import Convolution2D\nfrom keras.layers import MaxPooling2D\nfrom keras.layers import Flatten\nfrom keras.layers import Dense",
      "execution_count": null,
      "outputs": []
    },
    {
      "metadata": {
        "trusted": true,
        "_uuid": "4250f1e6b6d2fa616efd83c998abd114ec249cbe"
      },
      "cell_type": "code",
      "source": "#init creates object of class\nclassifier=Sequential()",
      "execution_count": null,
      "outputs": []
    },
    {
      "metadata": {
        "trusted": true,
        "_uuid": "2972d0510faaf3307c17b1cc0625f66e54f331f8"
      },
      "cell_type": "code",
      "source": "#changes for thaneo\n#activation fn-rectifier\nclassifier.add(Convolution2D(64,3,3,input_shape=(64,64,3),activation='relu'))\n",
      "execution_count": null,
      "outputs": []
    },
    {
      "metadata": {
        "trusted": true,
        "_uuid": "1ba69cf72e21d4b9155ea259d726ce801675475b"
      },
      "cell_type": "code",
      "source": "classifier.add(MaxPooling2D(pool_size=(2,2)))\nclassifier.add(Flatten())",
      "execution_count": null,
      "outputs": []
    },
    {
      "metadata": {
        "trusted": true,
        "_uuid": "0e8b1fbc1105e02c50f4c0c00aca61f29277ca26"
      },
      "cell_type": "code",
      "source": "#full connwection--output either sigmoid or softmax\nclassifier.add(Dense(output_dim=128,activation='relu'))\nclassifier.add(Dense(output_dim=1,activation='sigmoid'))\n",
      "execution_count": null,
      "outputs": []
    },
    {
      "metadata": {
        "trusted": true,
        "_uuid": "b039c71dac33dba788a66cdd5f4d9260282bcc68"
      },
      "cell_type": "code",
      "source": "#compile\nclassifier.compile(optimizer='adam',loss='binary_crossentropy',metrics=['accuracy'])",
      "execution_count": null,
      "outputs": []
    },
    {
      "metadata": {
        "trusted": true,
        "_uuid": "a94e278db13f3cf41842d268d25ad902f3149791"
      },
      "cell_type": "code",
      "source": "print(os.listdir(\"../input/chest_xray/chest_xray\"))",
      "execution_count": null,
      "outputs": []
    },
    {
      "metadata": {
        "trusted": true,
        "_uuid": "307f0415f27dee2b61af554127e1328ea6c83759"
      },
      "cell_type": "code",
      "source": "#preproessing-img aumentation----avoid overfitting\nfrom keras.preprocessing.image import ImageDataGenerator\ntrain_datagen = ImageDataGenerator(\n        rescale=1./255,\n        shear_range=0.2,\n        zoom_range=0.2,\n        horizontal_flip=True)\n#zoom-random\n#enough transformations\ntest_datagen = ImageDataGenerator(rescale=1./255)\n\ntraining_set = train_datagen.flow_from_directory(\n        '../input/chest_xray/chest_xray/train',classifier.input_shape[1:3],\n       \n        batch_size=32,\n        class_mode='binary')\n\ntest_set = test_datagen.flow_from_directory(\n        '../input/chest_xray/chest_xray/test',classifier.input_shape[1:3],\n       \n        batch_size=256,\n        class_mode='binary')\n#binar outcome-624 test\nclassifier.fit_generator(training_set,\n                    steps_per_epoch=5216,\n                    epochs=6,\n                    validation_data=test_set,\n                    validation_steps=624)",
      "execution_count": null,
      "outputs": []
    },
    {
      "metadata": {
        "trusted": true,
        "_uuid": "13f957a85de31434f1d70153c113b350efea8718"
      },
      "cell_type": "code",
      "source": "",
      "execution_count": null,
      "outputs": []
    }
  ],
  "metadata": {
    "kernelspec": {
      "display_name": "Python 3",
      "language": "python",
      "name": "python3"
    },
    "language_info": {
      "name": "python",
      "version": "3.6.6",
      "mimetype": "text/x-python",
      "codemirror_mode": {
        "name": "ipython",
        "version": 3
      },
      "pygments_lexer": "ipython3",
      "nbconvert_exporter": "python",
      "file_extension": ".py"
    }
  },
  "nbformat": 4,
  "nbformat_minor": 1
}